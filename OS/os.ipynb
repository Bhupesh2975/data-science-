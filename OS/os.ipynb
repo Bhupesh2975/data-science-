{
 "cells": [
  {
   "cell_type": "markdown",
   "id": "0f258442",
   "metadata": {},
   "source": [
    "### OS 9jul"
   ]
  },
  {
   "cell_type": "code",
   "execution_count": 3,
   "id": "5eaf8842",
   "metadata": {},
   "outputs": [],
   "source": [
    "import os"
   ]
  },
  {
   "cell_type": "code",
   "execution_count": 4,
   "id": "39ec7350",
   "metadata": {},
   "outputs": [
    {
     "name": "stdout",
     "output_type": "stream",
     "text": [
      "c:\\Users\\BHUPESH\\Desktop\\DATA SCIENCE\\OS\n"
     ]
    }
   ],
   "source": [
    "file = os.getcwd()         #### get current working directory\n",
    "print(file)"
   ]
  },
  {
   "cell_type": "code",
   "execution_count": 4,
   "id": "2dbaf2f0",
   "metadata": {},
   "outputs": [
    {
     "name": "stdout",
     "output_type": "stream",
     "text": [
      "total files in the directory ['deep leaning', 'gen AI', 'LSTM & GRU', 'Machine learning', 'Matplolib', 'Numpy', 'OS', 'Pandas', 'Projects', 'Python', 'Seaborn']\n"
     ]
    }
   ],
   "source": [
    "file=os.listdir(r\"c:\\Users\\BHUPESH\\Desktop\\DATA SCIENCE\") ## list all the path in the directory\n",
    "print(\"total files in the directory\",file)\n"
   ]
  },
  {
   "cell_type": "code",
   "execution_count": 7,
   "id": "5f400c42",
   "metadata": {},
   "outputs": [
    {
     "data": {
      "text/plain": [
       "['basic.py',\n",
       " 'conditional.ipynb',\n",
       " 'demo.txt',\n",
       " 'exception.ipynb',\n",
       " 'file_jandling.ipynb',\n",
       " 'function.ipynb',\n",
       " 'looping.ipynb',\n",
       " 'oops.ipynb',\n",
       " 'text.txt',\n",
       " 'upflairs.txt']"
      ]
     },
     "execution_count": 7,
     "metadata": {},
     "output_type": "execute_result"
    }
   ],
   "source": [
    "path = r\"c:\\Users\\BHUPESH\\Desktop\\DATA SCIENCE\\python\"\n",
    "os.listdir(path)\n"
   ]
  },
  {
   "cell_type": "code",
   "execution_count": 14,
   "id": "99f7c91c",
   "metadata": {},
   "outputs": [
    {
     "name": "stdout",
     "output_type": "stream",
     "text": [
      "folder created successfully:\n"
     ]
    }
   ],
   "source": [
    "os.mkdir(\"text\")   #### it will create a folder named text\n",
    "print(\"folder created successfully:\")"
   ]
  },
  {
   "cell_type": "code",
   "execution_count": 9,
   "id": "e26f19e4",
   "metadata": {},
   "outputs": [
    {
     "data": {
      "text/plain": [
       "['os.ipynb', 'text']"
      ]
     },
     "execution_count": 9,
     "metadata": {},
     "output_type": "execute_result"
    }
   ],
   "source": [
    "os.listdir(os.getcwd())\n"
   ]
  },
  {
   "cell_type": "code",
   "execution_count": 15,
   "id": "1d80c33f",
   "metadata": {},
   "outputs": [
    {
     "name": "stdout",
     "output_type": "stream",
     "text": [
      "folder rename successfully\n"
     ]
    }
   ],
   "source": [
    "os.rename(\"text\",\"Data science\")\n",
    "print(\"folder rename successfully\")"
   ]
  },
  {
   "cell_type": "code",
   "execution_count": 16,
   "id": "296f89e1",
   "metadata": {},
   "outputs": [
    {
     "data": {
      "text/plain": [
       "['Data science', 'os.ipynb']"
      ]
     },
     "execution_count": 16,
     "metadata": {},
     "output_type": "execute_result"
    }
   ],
   "source": [
    "os.listdir(os.getcwd())"
   ]
  },
  {
   "cell_type": "code",
   "execution_count": 17,
   "id": "13ae9bd4",
   "metadata": {},
   "outputs": [
    {
     "name": "stdout",
     "output_type": "stream",
     "text": [
      "folder remove successfully\n"
     ]
    }
   ],
   "source": [
    "os.rmdir(\"Data science\")\n",
    "print(\"folder remove successfully\")"
   ]
  },
  {
   "cell_type": "code",
   "execution_count": 18,
   "id": "e1bc4adf",
   "metadata": {},
   "outputs": [
    {
     "data": {
      "text/plain": [
       "['os.ipynb']"
      ]
     },
     "execution_count": 18,
     "metadata": {},
     "output_type": "execute_result"
    }
   ],
   "source": [
    "os.listdir(os.getcwd())"
   ]
  },
  {
   "cell_type": "code",
   "execution_count": 19,
   "id": "c915d7ad",
   "metadata": {},
   "outputs": [
    {
     "data": {
      "text/plain": [
       "'c:\\\\Users\\\\BHUPESH\\\\Desktop\\\\DATA SCIENCE\\\\OS'"
      ]
     },
     "execution_count": 19,
     "metadata": {},
     "output_type": "execute_result"
    }
   ],
   "source": [
    "os.getcwd()"
   ]
  },
  {
   "cell_type": "code",
   "execution_count": 21,
   "id": "11129d3f",
   "metadata": {},
   "outputs": [
    {
     "name": "stdout",
     "output_type": "stream",
     "text": [
      "path exist:- None\n"
     ]
    }
   ],
   "source": [
    "path = r\"c:\\\\Users\\\\BHUPESH\\\\Desktop\\\\DATA SCIENCE\\\\OS\"\n",
    "path = os.environ.get(path)\n",
    "print(\"path exist:-\",path)"
   ]
  },
  {
   "cell_type": "code",
   "execution_count": 22,
   "id": "6890a224",
   "metadata": {},
   "outputs": [],
   "source": [
    "#os.system command(path) ### system command"
   ]
  },
  {
   "cell_type": "code",
   "execution_count": 23,
   "id": "24f319e8",
   "metadata": {},
   "outputs": [
    {
     "data": {
      "text/plain": [
       "True"
      ]
     },
     "execution_count": 23,
     "metadata": {},
     "output_type": "execute_result"
    }
   ],
   "source": [
    "path = r\"C:\\Users\\BHUPESH\\Desktop\\DATA SCIENCE\\Python\\conditional.ipynb\"\n",
    "os.path.isfile(path)"
   ]
  },
  {
   "cell_type": "code",
   "execution_count": null,
   "id": "dc72da04",
   "metadata": {},
   "outputs": [
    {
     "data": {
      "text/plain": [
       "False"
      ]
     },
     "execution_count": 24,
     "metadata": {},
     "output_type": "execute_result"
    }
   ],
   "source": [
    "path = r\"C:\\Users\\BHUPESH\\Desktop\\DATA SCIENCE\\Python\\conditional.ipynb\"\n",
    "os.path.isdir(path)"
   ]
  },
  {
   "cell_type": "code",
   "execution_count": 30,
   "id": "74fc9b8c",
   "metadata": {},
   "outputs": [
    {
     "name": "stdout",
     "output_type": "stream",
     "text": [
      "C:\\Users\\BHUPESH\\Desktop\\DATA SCIENCE\\Python\n"
     ]
    },
    {
     "data": {
      "text/plain": [
       "['basic.py',\n",
       " 'conditional.ipynb',\n",
       " 'demo.txt',\n",
       " 'exception.ipynb',\n",
       " 'file_jandling.ipynb',\n",
       " 'function.ipynb',\n",
       " 'looping.ipynb',\n",
       " 'oops.ipynb',\n",
       " 'text.txt',\n",
       " 'upflairs.txt']"
      ]
     },
     "execution_count": 30,
     "metadata": {},
     "output_type": "execute_result"
    }
   ],
   "source": [
    "path1 = r\"C:\\Users\\BHUPESH\\Desktop\"\n",
    "path2 = r\"DATA SCIENCE\\Python\"\n",
    "complete_path = os.path.join(path1,path2)\n",
    "print(complete_path)\n",
    "os.listdir(complete_path)"
   ]
  },
  {
   "cell_type": "code",
   "execution_count": 27,
   "id": "670fcac1",
   "metadata": {},
   "outputs": [
    {
     "name": "stdout",
     "output_type": "stream",
     "text": [
      "C:\\Users\\BHUPESH\\Desktop\\DATA SCIENCE\\Python\n"
     ]
    },
    {
     "data": {
      "text/plain": [
       "['basic.py',\n",
       " 'conditional.ipynb',\n",
       " 'demo.txt',\n",
       " 'exception.ipynb',\n",
       " 'file_jandling.ipynb',\n",
       " 'function.ipynb',\n",
       " 'looping.ipynb',\n",
       " 'oops.ipynb',\n",
       " 'text.txt',\n",
       " 'upflairs.txt']"
      ]
     },
     "execution_count": 27,
     "metadata": {},
     "output_type": "execute_result"
    }
   ],
   "source": [
    "path1 = r\"C:\\Users\\BHUPESH\\Desktop\"\n",
    "path2 = r\"DATA SCIENCE\\Python\"\n",
    "complete_path = os.path.join(path1,path2)\n",
    "print(complete_path)\n",
    "os.listdir(complete_path)"
   ]
  },
  {
   "cell_type": "code",
   "execution_count": null,
   "id": "a943e704",
   "metadata": {},
   "outputs": [
    {
     "name": "stdout",
     "output_type": "stream",
     "text": [
      "size of the file in bites:- 5983\n"
     ]
    }
   ],
   "source": [
    "path = r\"C:\\Users\\BHUPESH\\Desktop\\DATA SCIENCE\\Python\\conditional.ipynb\"\n",
    "size = os.path.getsize(path)\n",
    "print(\"size of the file in bites:-\",size)"
   ]
  },
  {
   "cell_type": "code",
   "execution_count": 34,
   "id": "dfbbd252",
   "metadata": {},
   "outputs": [
    {
     "name": "stdout",
     "output_type": "stream",
     "text": [
      "before dir c:\\Users\\BHUPESH\\Desktop\\DATA SCIENCE\\OS\n",
      "after dir C:\\Users\\BHUPESH\\Desktop\\Python practice\n"
     ]
    }
   ],
   "source": [
    "print(\"before dir\",os.getcwd())\n",
    "os.chdir(r\"C:\\Users\\BHUPESH\\Desktop\\Python practice\")\n",
    "print(\"after dir\",os.getcwd())\n"
   ]
  },
  {
   "cell_type": "code",
   "execution_count": null,
   "id": "82814822",
   "metadata": {},
   "outputs": [],
   "source": []
  }
 ],
 "metadata": {
  "kernelspec": {
   "display_name": "Python 3",
   "language": "python",
   "name": "python3"
  },
  "language_info": {
   "codemirror_mode": {
    "name": "ipython",
    "version": 3
   },
   "file_extension": ".py",
   "mimetype": "text/x-python",
   "name": "python",
   "nbconvert_exporter": "python",
   "pygments_lexer": "ipython3",
   "version": "3.12.6"
  }
 },
 "nbformat": 4,
 "nbformat_minor": 5
}

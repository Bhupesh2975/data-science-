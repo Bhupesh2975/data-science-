{
 "cells": [
  {
   "cell_type": "markdown",
   "id": "71918565",
   "metadata": {},
   "source": [
    "#### oops concepts in python"
   ]
  },
  {
   "cell_type": "code",
   "execution_count": 1,
   "id": "8c95c296",
   "metadata": {},
   "outputs": [],
   "source": [
    "#global variable\n",
    "#local variable\n",
    "#polymorphism\n",
    "#encapsulation\n",
    "#inheritence\n",
    "#Abstraction"
   ]
  },
  {
   "cell_type": "code",
   "execution_count": 2,
   "id": "c2ac455b",
   "metadata": {},
   "outputs": [],
   "source": [
    "class class_name:\n",
    "    pass\n",
    "#class_name >>>>> class name\n",
    "#pass >>>> placeholder\n",
    "#class is a keyword\n"
   ]
  },
  {
   "cell_type": "code",
   "execution_count": 8,
   "id": "4883e307",
   "metadata": {},
   "outputs": [
    {
     "name": "stdout",
     "output_type": "stream",
     "text": [
      "my name is ritik and my age is 20\n"
     ]
    }
   ],
   "source": [
    "class Student:\n",
    "    name = \"ritik\"\n",
    "    age = 20\n",
    "    print(f\"my name is {name} and my age is {age}\")\n",
    "obj_St = Student()"
   ]
  },
  {
   "cell_type": "code",
   "execution_count": 10,
   "id": "3d4224be",
   "metadata": {},
   "outputs": [
    {
     "data": {
      "text/plain": [
       "'ritik'"
      ]
     },
     "execution_count": 10,
     "metadata": {},
     "output_type": "execute_result"
    }
   ],
   "source": [
    "obj_St.name"
   ]
  },
  {
   "cell_type": "code",
   "execution_count": 11,
   "id": "eb326467",
   "metadata": {},
   "outputs": [
    {
     "data": {
      "text/plain": [
       "20"
      ]
     },
     "execution_count": 11,
     "metadata": {},
     "output_type": "execute_result"
    }
   ],
   "source": [
    "obj_St.age\n"
   ]
  },
  {
   "cell_type": "code",
   "execution_count": 13,
   "id": "edeb8d9c",
   "metadata": {},
   "outputs": [],
   "source": [
    "class Student:\n",
    "    name = \"ritik\"\n",
    "    age = 20\n",
    "\n",
    "    def info(self): ## info is method and self is parameter ya object keyword\n",
    "\n",
    "        print(\"this is my first method\")\n",
    "        print(\"hoe are you all\")\n",
    "\n",
    "dt_obj = Student()"
   ]
  },
  {
   "cell_type": "code",
   "execution_count": null,
   "id": "f3f6943b",
   "metadata": {},
   "outputs": [],
   "source": [
    "class Student:\n",
    "    name = \"ritik\"\n",
    "    age = 20\n",
    "\n",
    "    def info(self): ## info is method and self is parameter ya object keyword\n",
    "\n",
    "        print(name)\n",
    "        print(age)\n",
    "\n",
    "dt_obj = Student()"
   ]
  },
  {
   "cell_type": "code",
   "execution_count": null,
   "id": "4e9efc2a",
   "metadata": {},
   "outputs": [],
   "source": [
    "class Student:\n",
    "    name = \"ritik\"\n",
    "    age = 20\n",
    "\n",
    "    def info(self): ## info is method and self is parameter ya object keyword\n",
    "\n",
    "        print(f\"my name is {self.name} and my age is {self.age}\")\n",
    "        \n",
    "\n",
    "dt_obj = Student()"
   ]
  },
  {
   "cell_type": "code",
   "execution_count": 15,
   "id": "ac2dbef2",
   "metadata": {},
   "outputs": [
    {
     "name": "stdout",
     "output_type": "stream",
     "text": [
      "my name is ritik and my age is 20\n"
     ]
    }
   ],
   "source": [
    "dt_obj.info()"
   ]
  },
  {
   "cell_type": "markdown",
   "id": "f14d06e0",
   "metadata": {},
   "source": [
    "#### Inheritence\n",
    "     types of inheritence\n",
    "    *single inheritence\n",
    "    *multiple inheritence\n",
    "    *multilevel inheritence\n",
    "    *hierarchical inheritence\n",
    "    *hybrid inheritence"
   ]
  },
  {
   "cell_type": "code",
   "execution_count": 16,
   "id": "ed7b2428",
   "metadata": {},
   "outputs": [],
   "source": [
    "# class college:\n",
    "#     pass\n",
    "# class student:\n",
    "#     pass"
   ]
  },
  {
   "cell_type": "code",
   "execution_count": null,
   "id": "8ac2ac40",
   "metadata": {},
   "outputs": [
    {
     "name": "stdout",
     "output_type": "stream",
     "text": [
      "Raffles university\n",
      "Neemrana\n",
      "Bhupesh\n",
      "1234\n"
     ]
    }
   ],
   "source": [
    "### single inheritence\n",
    "class college:\n",
    "    college_name = \"Raffles university\"\n",
    "    college_address = \"Neemrana\"\n",
    "\n",
    "class student(college):\n",
    "    student_name = \"Bhupesh\"\n",
    "    student_id = \"1234\"\n",
    "st_obj = student()\n",
    "print(st_obj.college_name)\n",
    "print(st_obj.college_address)\n",
    "print(st_obj.student_name)\n",
    "print(st_obj.student_id)"
   ]
  },
  {
   "cell_type": "code",
   "execution_count": null,
   "id": "c16feecc",
   "metadata": {},
   "outputs": [
    {
     "name": "stdout",
     "output_type": "stream",
     "text": [
      "Mani prakash\n",
      "1234\n",
      "Rohit kumar\n"
     ]
    }
   ],
   "source": [
    "class Father:\n",
    "    father_name = \"Ritik\"\n",
    "    father_id = \"1234\"\n",
    "class Uncle:\n",
    "    uncle_name = \"Rohit kumar\"\n",
    "class child(Father,Uncle):\n",
    "    pass\n",
    "\n",
    "obj_child = child()\n",
    "print(obj_child.father_name)\n",
    "print(obj_child.father_id)\n",
    "print(obj_child.uncle_name)"
   ]
  },
  {
   "cell_type": "code",
   "execution_count": 6,
   "id": "27436bc2",
   "metadata": {},
   "outputs": [
    {
     "name": "stdout",
     "output_type": "stream",
     "text": [
      "Ritik\n",
      "1234\n",
      "Rohit kumar\n",
      "1234fjkd\n"
     ]
    }
   ],
   "source": [
    "#### multiple inheritence \n",
    "class Grandfather:\n",
    "    grandfather_name = \"Ritik\"\n",
    "    grandfather_id = \"1234\"\n",
    "\n",
    "class Father(Grandfather):\n",
    "    father_name = \"Rohit kumar\"\n",
    "    father_id = \"1234fjkd\"\n",
    "\n",
    "class child(Father):\n",
    "    pass\n",
    "obj_child =child()\n",
    "\n",
    "print(obj_child.grandfather_name)\n",
    "print(obj_child.grandfather_id)\n",
    "print(obj_child.father_name)\n",
    "print(obj_child.father_id)"
   ]
  },
  {
   "cell_type": "code",
   "execution_count": 27,
   "id": "0ba4d2bd",
   "metadata": {},
   "outputs": [],
   "source": [
    "### Encapsulation \n",
    "# private\n",
    "# public \n",
    "# protected\n",
    "\n",
    "class student:\n",
    "    __name = \"ritik \" ### private variable\n",
    "    age = 20  ### pubvlic variable\n",
    "    _id = \"1234\" ### protected variable\n",
    "st_obj = student()\n"
   ]
  },
  {
   "cell_type": "code",
   "execution_count": 28,
   "id": "546f3fa0",
   "metadata": {},
   "outputs": [
    {
     "data": {
      "text/plain": [
       "20"
      ]
     },
     "execution_count": 28,
     "metadata": {},
     "output_type": "execute_result"
    }
   ],
   "source": [
    "st_obj.age"
   ]
  },
  {
   "cell_type": "code",
   "execution_count": 29,
   "id": "494a3838",
   "metadata": {},
   "outputs": [
    {
     "data": {
      "text/plain": [
       "'ritik '"
      ]
     },
     "execution_count": 29,
     "metadata": {},
     "output_type": "execute_result"
    }
   ],
   "source": [
    "st_obj._student__name"
   ]
  },
  {
   "cell_type": "code",
   "execution_count": 4,
   "id": "d21bceda",
   "metadata": {},
   "outputs": [
    {
     "data": {
      "text/plain": [
       "'1234'"
      ]
     },
     "execution_count": 4,
     "metadata": {},
     "output_type": "execute_result"
    }
   ],
   "source": [
    "st_obj._id"
   ]
  },
  {
   "cell_type": "code",
   "execution_count": null,
   "id": "7d68a5fd",
   "metadata": {},
   "outputs": [],
   "source": [
    "# bank >>> task\n",
    "\n",
    "# account number private\n",
    "# name \n",
    "# address\n",
    "# phone number\n",
    "# method\n",
    "# total balance"
   ]
  },
  {
   "cell_type": "code",
   "execution_count": 30,
   "id": "5e27ff60",
   "metadata": {},
   "outputs": [],
   "source": [
    "class Bank:\n",
    "    __accountnumber = \"26484998998\"\n",
    "    accountholdername =\"Bhupesh\"\n",
    "    address =\"Neemrana\"\n",
    "    phonenumber =\"7357975446\"\n",
    "    methods =\"cash\" \n",
    "    accountbalance =\"18670\"\n",
    "\n",
    "st_obj =Bank()"
   ]
  },
  {
   "cell_type": "code",
   "execution_count": 31,
   "id": "6291cb68",
   "metadata": {},
   "outputs": [
    {
     "data": {
      "text/plain": [
       "'18670'"
      ]
     },
     "execution_count": 31,
     "metadata": {},
     "output_type": "execute_result"
    }
   ],
   "source": [
    "st_obj.accountbalance"
   ]
  },
  {
   "cell_type": "code",
   "execution_count": 32,
   "id": "468dc78f",
   "metadata": {},
   "outputs": [
    {
     "data": {
      "text/plain": [
       "'Bhupesh'"
      ]
     },
     "execution_count": 32,
     "metadata": {},
     "output_type": "execute_result"
    }
   ],
   "source": [
    "st_obj.accountholdername"
   ]
  },
  {
   "cell_type": "code",
   "execution_count": 33,
   "id": "88444b9f",
   "metadata": {},
   "outputs": [
    {
     "data": {
      "text/plain": [
       "'Neemrana'"
      ]
     },
     "execution_count": 33,
     "metadata": {},
     "output_type": "execute_result"
    }
   ],
   "source": [
    "st_obj.address"
   ]
  },
  {
   "cell_type": "code",
   "execution_count": 35,
   "id": "0cbb4fdf",
   "metadata": {},
   "outputs": [
    {
     "ename": "AttributeError",
     "evalue": "'Bank' object has no attribute 'Bank__accountnumber'",
     "output_type": "error",
     "traceback": [
      "\u001b[31m---------------------------------------------------------------------------\u001b[39m",
      "\u001b[31mAttributeError\u001b[39m                            Traceback (most recent call last)",
      "\u001b[36mCell\u001b[39m\u001b[36m \u001b[39m\u001b[32mIn[35]\u001b[39m\u001b[32m, line 1\u001b[39m\n\u001b[32m----> \u001b[39m\u001b[32m1\u001b[39m \u001b[43mst_obj\u001b[49m\u001b[43m.\u001b[49m\u001b[43mBank__accountnumber\u001b[49m\n",
      "\u001b[31mAttributeError\u001b[39m: 'Bank' object has no attribute 'Bank__accountnumber'"
     ]
    }
   ],
   "source": [
    "st_obj.Bank__accountnumber"
   ]
  },
  {
   "cell_type": "code",
   "execution_count": 36,
   "id": "11e8defc",
   "metadata": {},
   "outputs": [],
   "source": [
    "#7 july tasks\n",
    "\n",
    "# task1 >>>>>super function\n",
    "# task1 >>>>>Bmi calculator"
   ]
  },
  {
   "cell_type": "code",
   "execution_count": 37,
   "id": "618cfb6c",
   "metadata": {},
   "outputs": [
    {
     "data": {
      "text/plain": [
       "<__main__.Student at 0x1befe85c980>"
      ]
     },
     "execution_count": 37,
     "metadata": {},
     "output_type": "execute_result"
    }
   ],
   "source": [
    "### constructor\n",
    "\n",
    "#init method\n",
    "#__init__\n",
    "\n",
    "class Student:\n",
    "    def __init__(self):\n",
    "        pass\n",
    "Student()\n",
    "\n"
   ]
  },
  {
   "cell_type": "code",
   "execution_count": 39,
   "id": "22c07aec",
   "metadata": {},
   "outputs": [
    {
     "data": {
      "text/plain": [
       "'Bhupesh'"
      ]
     },
     "execution_count": 39,
     "metadata": {},
     "output_type": "execute_result"
    }
   ],
   "source": [
    "class Student:\n",
    "    def __init__(self,name,age):\n",
    "        self.name = name\n",
    "        self.age = age #### instance variable\n",
    "\n",
    "obj_St = Student(name = \"Bhupesh\",age = 21)\n",
    "\n",
    "obj_St.name\n"
   ]
  },
  {
   "cell_type": "code",
   "execution_count": 40,
   "id": "960ef601",
   "metadata": {},
   "outputs": [
    {
     "data": {
      "text/plain": [
       "21"
      ]
     },
     "execution_count": 40,
     "metadata": {},
     "output_type": "execute_result"
    }
   ],
   "source": [
    "obj_St.age"
   ]
  },
  {
   "cell_type": "code",
   "execution_count": 3,
   "id": "39d9af3b",
   "metadata": {},
   "outputs": [
    {
     "ename": "NameError",
     "evalue": "name 'name' is not defined",
     "output_type": "error",
     "traceback": [
      "\u001b[31m---------------------------------------------------------------------------\u001b[39m",
      "\u001b[31mNameError\u001b[39m                                 Traceback (most recent call last)",
      "\u001b[36mCell\u001b[39m\u001b[36m \u001b[39m\u001b[32mIn[3]\u001b[39m\u001b[32m, line 12\u001b[39m\n\u001b[32m      8\u001b[39m         \u001b[38;5;28mprint\u001b[39m(\u001b[33mf\u001b[39m\u001b[33m\"\u001b[39m\u001b[33mmy name is \u001b[39m\u001b[38;5;132;01m{\u001b[39;00mname\u001b[38;5;132;01m}\u001b[39;00m\u001b[33m and my age is \u001b[39m\u001b[38;5;132;01m{\u001b[39;00mage\u001b[38;5;132;01m}\u001b[39;00m\u001b[33m and my address is \u001b[39m\u001b[38;5;132;01m{\u001b[39;00maddress\u001b[38;5;132;01m}\u001b[39;00m\u001b[33m\"\u001b[39m)\n\u001b[32m     10\u001b[39m obj_St = student( name= \u001b[33m\"\u001b[39m\u001b[33mBhupesh\u001b[39m\u001b[33m\"\u001b[39m, age = \u001b[32m21\u001b[39m, address = \u001b[33m\"\u001b[39m\u001b[33mneemrana\u001b[39m\u001b[33m\"\u001b[39m )\n\u001b[32m---> \u001b[39m\u001b[32m12\u001b[39m \u001b[43mobj_St\u001b[49m\u001b[43m.\u001b[49m\u001b[43mdisplay\u001b[49m\u001b[43m(\u001b[49m\u001b[43m)\u001b[49m\n",
      "\u001b[36mCell\u001b[39m\u001b[36m \u001b[39m\u001b[32mIn[3]\u001b[39m\u001b[32m, line 8\u001b[39m, in \u001b[36mstudent.display\u001b[39m\u001b[34m(self)\u001b[39m\n\u001b[32m      7\u001b[39m \u001b[38;5;28;01mdef\u001b[39;00m\u001b[38;5;250m \u001b[39m\u001b[34mdisplay\u001b[39m(\u001b[38;5;28mself\u001b[39m):\n\u001b[32m----> \u001b[39m\u001b[32m8\u001b[39m     \u001b[38;5;28mprint\u001b[39m(\u001b[33mf\u001b[39m\u001b[33m\"\u001b[39m\u001b[33mmy name is \u001b[39m\u001b[38;5;132;01m{\u001b[39;00m\u001b[43mname\u001b[49m\u001b[38;5;132;01m}\u001b[39;00m\u001b[33m and my age is \u001b[39m\u001b[38;5;132;01m{\u001b[39;00mage\u001b[38;5;132;01m}\u001b[39;00m\u001b[33m and my address is \u001b[39m\u001b[38;5;132;01m{\u001b[39;00maddress\u001b[38;5;132;01m}\u001b[39;00m\u001b[33m\"\u001b[39m)\n",
      "\u001b[31mNameError\u001b[39m: name 'name' is not defined"
     ]
    }
   ],
   "source": [
    "class student:\n",
    "    def __init__(self,name,age,address):\n",
    "        self.name = name\n",
    "        self.age = age\n",
    "        self.address = address\n",
    "        \n",
    "    def display(self):\n",
    "        print(f\"my name is {name} and my age is {age} and my address is {address}\")\n",
    "\n",
    "obj_St = student( name= \"Bhupesh\", age = 21, address = \"neemrana\" )\n",
    "\n",
    "obj_St.display()\n"
   ]
  },
  {
   "cell_type": "code",
   "execution_count": 16,
   "id": "0d28986e",
   "metadata": {},
   "outputs": [],
   "source": [
    "# project task\n",
    "# class Bank\n",
    "# contructore\n",
    "# init method\n",
    "# __init__\n",
    "# account number private"
   ]
  },
  {
   "cell_type": "code",
   "execution_count": null,
   "id": "2d2976e2",
   "metadata": {},
   "outputs": [
    {
     "name": "stdout",
     "output_type": "stream",
     "text": [
      "Account Number: 575944959040499\n",
      "Name: Bhupesh\n",
      "Address: Neemrana\n",
      "Phone: 7357975446\n",
      "Balance: 6000\n"
     ]
    }
   ],
   "source": [
    "class Bank:\n",
    "    def __init__(self, acc_no, name, address, phone, balance):\n",
    "        self.acc_no = acc_no\n",
    "        self.name = name\n",
    "        self.address = address\n",
    "        self.phone = phone\n",
    "        self.balance = balance\n",
    "\n",
    "    def my_details(self):\n",
    "        print(\"Account Number:\", self.acc_no)\n",
    "        print(\"Name:\", self.name)\n",
    "        print(\"Address:\", self.address)\n",
    "        print(\"Phone:\", self.phone)\n",
    "        print(\"Balance:\", self.balance)\n",
    "\n",
    "    def deposit(self, amount):\n",
    "        self.balance = self.balance+amount\n",
    "        print(f\"{amount} deposited. New balance:- {self.balance}\")\n",
    "\n",
    "    def withdraw(self, amount):\n",
    "            self.balance = self.balance-amount\n",
    "            print(f\"{amount} withdrawn. Remaining balance:- {self.balance}\")\n",
    "\n",
    "Bn_obj = Bank(575944959040499, \"Bhupesh\", \"Neemrana\", \"7357975446\", 6000)\n",
    "\n",
    "Bn_obj.my_details()\n"
   ]
  },
  {
   "cell_type": "code",
   "execution_count": 11,
   "id": "cf32f146",
   "metadata": {},
   "outputs": [
    {
     "name": "stdout",
     "output_type": "stream",
     "text": [
      "300 deposited. New balance: 6300\n"
     ]
    }
   ],
   "source": [
    "Bn_obj.deposit(300)"
   ]
  },
  {
   "cell_type": "code",
   "execution_count": 12,
   "id": "0b709525",
   "metadata": {},
   "outputs": [
    {
     "name": "stdout",
     "output_type": "stream",
     "text": [
      "4000 withdrawn. Remaining balance: 2300\n"
     ]
    }
   ],
   "source": [
    "Bn_obj.withdraw(4000)"
   ]
  },
  {
   "cell_type": "code",
   "execution_count": null,
   "id": "21431aec",
   "metadata": {},
   "outputs": [
    {
     "name": "stdout",
     "output_type": "stream",
     "text": [
      "Name: Bhupesh\n",
      "Age: 22\n",
      "Employee ID: 1234\n",
      "Salary: ₹45000\n"
     ]
    }
   ],
   "source": [
    "# Task >>>> 7jul >>> home work1\n",
    "class Person:\n",
    "    def __init__(self, name, age):\n",
    "        self.name = name\n",
    "        self.age = age\n",
    "\n",
    "    def show_info(self):\n",
    "        print(f\"Name: {self.name}\")\n",
    "        print(f\"Age: {self.age}\")\n",
    "\n",
    "class Employee(Person):\n",
    "    def __init__(self, name, age, emp_id, salary):\n",
    "        super().__init__(name, age)\n",
    "        self.emp_id = emp_id\n",
    "        self.salary = salary\n",
    "\n",
    "    def show_info(self):\n",
    "        super().show_info()            \n",
    "        print(f\"Employee ID: {self.emp_id}\")\n",
    "        print(f\"Salary: ₹{self.salary}\")\n",
    "\n",
    "obj_emp = Employee(\"Bhupesh\", 22, \"1234\", 55000)\n",
    "obj_emp.show_info()\n"
   ]
  },
  {
   "cell_type": "code",
   "execution_count": 1,
   "id": "a8d64332",
   "metadata": {},
   "outputs": [
    {
     "name": "stdout",
     "output_type": "stream",
     "text": [
      "Your BMI is: 19.72\n",
      "You have Normal weight.\n"
     ]
    }
   ],
   "source": [
    "class BMI_Calculator:\n",
    "    def __init__(self, weight, height):\n",
    "        self.weight = weight\n",
    "        self.height = height \n",
    "\n",
    "    def calculate_bmi(self):\n",
    "        bmi = self.weight / (self.height ** 2)\n",
    "        return bmi\n",
    "\n",
    "    def interpret_bmi(self):\n",
    "        bmi = self.calculate_bmi()\n",
    "        print(f\"Your BMI is: {bmi:.2f}\")\n",
    "\n",
    "        if bmi < 18.5:\n",
    "            print(\"You are Underweight.\")\n",
    "        elif bmi < 25:\n",
    "            print(\"You have Normal weight.\")\n",
    "        elif bmi < 30:\n",
    "            print(\"You are Overweight.\")\n",
    "        else:\n",
    "            print(\"You are Obese.\")\n",
    "\n",
    "\n",
    "weight = float(input(\"Enter your weight in kg: \"))\n",
    "height = float(input(\"Enter your height in meters: \"))\n",
    "\n",
    "obj_bmi = BMI_Calculator(weight, height)\n",
    "\n",
    "obj_bmi.interpret_bmi()\n"
   ]
  },
  {
   "cell_type": "code",
   "execution_count": null,
   "id": "2a97647b",
   "metadata": {},
   "outputs": [],
   "source": []
  }
 ],
 "metadata": {
  "kernelspec": {
   "display_name": "Python 3",
   "language": "python",
   "name": "python3"
  },
  "language_info": {
   "codemirror_mode": {
    "name": "ipython",
    "version": 3
   },
   "file_extension": ".py",
   "mimetype": "text/x-python",
   "name": "python",
   "nbconvert_exporter": "python",
   "pygments_lexer": "ipython3",
   "version": "3.12.6"
  }
 },
 "nbformat": 4,
 "nbformat_minor": 5
}

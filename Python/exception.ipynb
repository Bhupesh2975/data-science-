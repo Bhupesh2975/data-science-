{
 "cells": [
  {
   "cell_type": "markdown",
   "id": "6d2235db",
   "metadata": {},
   "source": [
    "#### Exception handling (8 july)"
   ]
  },
  {
   "cell_type": "code",
   "execution_count": 1,
   "id": "c05a3460",
   "metadata": {},
   "outputs": [],
   "source": [
    "try :\n",
    "    pass  ## main code\n",
    "except :\n",
    "    pass  ## error code \n",
    "else :\n",
    "    pass  ## multiple code\n",
    "finally :\n",
    "    pass  ## koi chale na chale me to chalunga"
   ]
  },
  {
   "cell_type": "code",
   "execution_count": 3,
   "id": "ad5967e7",
   "metadata": {},
   "outputs": [
    {
     "name": "stdout",
     "output_type": "stream",
     "text": [
      "12\n"
     ]
    }
   ],
   "source": [
    "try:\n",
    "    a = int(input(\"enter a number\"))\n",
    "    b = int(input(\"enter second number\"))\n",
    "    print(a*b)\n",
    "\n",
    "except ValueError as e:\n",
    "        print(\"invalid input\",e)\n",
    "\n",
    "        # python error handling"
   ]
  },
  {
   "cell_type": "code",
   "execution_count": 5,
   "id": "08c4b236",
   "metadata": {},
   "outputs": [
    {
     "name": "stdout",
     "output_type": "stream",
     "text": [
      "division by zero\n"
     ]
    }
   ],
   "source": [
    "try:\n",
    "    a = int(input(\"enter a number\"))\n",
    "    b = int(input(\"enter second number\"))\n",
    "    print(a/b)\n",
    "\n",
    "except ZeroDivisionError as e:\n",
    "        print(e)\n",
    "\n",
    "        # python error handling"
   ]
  },
  {
   "cell_type": "code",
   "execution_count": 4,
   "id": "f4d44d6f",
   "metadata": {},
   "outputs": [
    {
     "name": "stdout",
     "output_type": "stream",
     "text": [
      "invalid literal for int() with base 10: 'gk'\n"
     ]
    }
   ],
   "source": [
    "try:\n",
    "    a = int(input(\"enter a number\"))\n",
    "    b = int(input(\"enter second number\"))\n",
    "    print(a/b)\n",
    "\n",
    "except Exception as e:    #Exception >>>>> this key word is use for handling all errors\n",
    "        print(e)\n",
    "      # python error handling\n"
   ]
  },
  {
   "cell_type": "code",
   "execution_count": 2,
   "id": "2255231f",
   "metadata": {},
   "outputs": [
    {
     "name": "stdout",
     "output_type": "stream",
     "text": [
      "12.0\n",
      "no error\n",
      "48\n",
      "koi chale na chale me to chalunga\n"
     ]
    }
   ],
   "source": [
    "try :\n",
    "    a = int(input(\"enter a number\"))\n",
    "    b = int(input(\"enter second number\"))\n",
    "    print(a/b)\n",
    "except ZeroDivisionError as e:\n",
    "    print(e)\n",
    "else :\n",
    "    print(\"no error\")\n",
    "    print(a*b)\n",
    "finally :\n",
    "    print(\"koi chale na chale me to chalunga\")"
   ]
  },
  {
   "cell_type": "code",
   "execution_count": 3,
   "id": "79872ca9",
   "metadata": {},
   "outputs": [
    {
     "name": "stdout",
     "output_type": "stream",
     "text": [
      "final_result:- 2.0\n",
      "Thanks for using our software\n"
     ]
    }
   ],
   "source": [
    "try :\n",
    "    num1 = int(input(\"enter a number\"))\n",
    "    num2 = int(input(\"enter second number\"))\n",
    "    result = num1/num2\n",
    "except ZeroDivisionError as e:\n",
    "    print(e)\n",
    "except ValueError as e:\n",
    "    print(e)\n",
    "except Exception as e:\n",
    "    print(e)\n",
    "else :\n",
    "    print(\"final_result:-\",result)\n",
    "finally :\n",
    "    print(\"Thanks for using our software\")"
   ]
  },
  {
   "cell_type": "code",
   "execution_count": 4,
   "id": "0ead6045",
   "metadata": {},
   "outputs": [
    {
     "name": "stdout",
     "output_type": "stream",
     "text": [
      "invalid literal for int() with base 10: 'fgr'\n",
      "Thanks for using our software\n"
     ]
    }
   ],
   "source": [
    "try :\n",
    "    num1 = int(input(\"enter a number\"))\n",
    "    num2 = int(input(\"enter second number\"))\n",
    "    result = num1/num2\n",
    "except ZeroDivisionError as e:\n",
    "    print(e)\n",
    "except ValueError as e:\n",
    "    print(e)\n",
    "except Exception as e:\n",
    "    print(e)\n",
    "else :\n",
    "    print(\"final_result:-\",result)\n",
    "finally :\n",
    "    print(\"Thanks for using our software\")"
   ]
  },
  {
   "cell_type": "code",
   "execution_count": null,
   "id": "e00ddc7c",
   "metadata": {},
   "outputs": [],
   "source": []
  }
 ],
 "metadata": {
  "kernelspec": {
   "display_name": "Python 3",
   "language": "python",
   "name": "python3"
  },
  "language_info": {
   "codemirror_mode": {
    "name": "ipython",
    "version": 3
   },
   "file_extension": ".py",
   "mimetype": "text/x-python",
   "name": "python",
   "nbconvert_exporter": "python",
   "pygments_lexer": "ipython3",
   "version": "3.12.6"
  }
 },
 "nbformat": 4,
 "nbformat_minor": 5
}

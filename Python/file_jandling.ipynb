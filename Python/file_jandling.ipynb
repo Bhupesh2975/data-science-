{
 "cells": [
  {
   "cell_type": "markdown",
   "id": "943e0a7a",
   "metadata": {},
   "source": [
    "### *File handling* \n",
    "\n",
    "| Mode   | Description                                                  |\n",
    "| ------ | ------------------------------------------------------------ |\n",
    "| \"r\"  | Read mode (default), error if file doesn't exist             |\n",
    "| \"w\"  | Write mode, creates a file if not exist, overwrites existing |\n",
    "| \"a\"  | Append mode, adds content to end of file                     |\n",
    "| \"x\"  | Create mode, error if file already exists                    |\n",
    "                                         |\n",
    "                "
   ]
  },
  {
   "cell_type": "code",
   "execution_count": 2,
   "id": "9f6982a1",
   "metadata": {},
   "outputs": [],
   "source": [
    "file = open('demo.txt','r') \n",
    "file.read()\n",
    "file.close()"
   ]
  },
  {
   "cell_type": "code",
   "execution_count": 3,
   "id": "33f5379a",
   "metadata": {},
   "outputs": [],
   "source": [
    "file = open('demo.txt','r') \n",
    "file.readline() ### it will read alll the lines of the file\n",
    "file.close()"
   ]
  },
  {
   "cell_type": "code",
   "execution_count": 4,
   "id": "6507ebfe",
   "metadata": {},
   "outputs": [],
   "source": [
    "file = open('demo.txt','a') ### it will append the file \n",
    "file.write(\"hello world\") ### it will read alll the lines of the file\n",
    "file.close()"
   ]
  },
  {
   "cell_type": "code",
   "execution_count": 5,
   "id": "4d4ff858",
   "metadata": {},
   "outputs": [],
   "source": [
    "file = open('demo.txt','r') \n",
    "file.read()\n",
    "file.close()"
   ]
  },
  {
   "cell_type": "code",
   "execution_count": 13,
   "id": "5a67c63a",
   "metadata": {},
   "outputs": [
    {
     "data": {
      "text/plain": [
       "18"
      ]
     },
     "execution_count": 13,
     "metadata": {},
     "output_type": "execute_result"
    }
   ],
   "source": [
    "file = open(\"demo.txt\",'a')\n",
    "file.write(\"hello bhai kese ho\")\n",
    "# file.close()\n"
   ]
  },
  {
   "cell_type": "code",
   "execution_count": null,
   "id": "d3e3199f",
   "metadata": {},
   "outputs": [],
   "source": [
    "file = open('demo.txt','r') \n",
    "file.close()"
   ]
  },
  {
   "cell_type": "code",
   "execution_count": 8,
   "id": "50f52919",
   "metadata": {},
   "outputs": [],
   "source": [
    "file = open('text.txt','a')\n",
    "file.write(\"apend mode ka kaa kam ye hota hai ki agr esko file milti hai to ye usi file ke andrr append krdega agr esko file  nahi milti hai to crearte kar dega \")\n",
    "file.close() "
   ]
  },
  {
   "cell_type": "code",
   "execution_count": 9,
   "id": "fddb3eb0",
   "metadata": {},
   "outputs": [
    {
     "data": {
      "text/plain": [
       "'apend mode ka kaa kam ye hota hai ki agr esko file milti hai to ye usi file ke andrr append krdega agr esko file  nahi milti hai to crearte kar dega '"
      ]
     },
     "execution_count": 9,
     "metadata": {},
     "output_type": "execute_result"
    }
   ],
   "source": [
    "open(\"text.txt\",'r').read()"
   ]
  },
  {
   "cell_type": "code",
   "execution_count": 11,
   "id": "d18f37bb",
   "metadata": {},
   "outputs": [],
   "source": [
    "#### create mode\n",
    "\n",
    "file = open(\"upflairs.txt\",'x')\n",
    "file.write(\"hello kesa laga upflairs aake\")\n",
    "file.close()\n",
    "# file.read()"
   ]
  },
  {
   "cell_type": "code",
   "execution_count": null,
   "id": "64cceba6",
   "metadata": {},
   "outputs": [],
   "source": []
  }
 ],
 "metadata": {
  "kernelspec": {
   "display_name": "Python 3",
   "language": "python",
   "name": "python3"
  },
  "language_info": {
   "codemirror_mode": {
    "name": "ipython",
    "version": 3
   },
   "file_extension": ".py",
   "mimetype": "text/x-python",
   "name": "python",
   "nbconvert_exporter": "python",
   "pygments_lexer": "ipython3",
   "version": "3.12.6"
  }
 },
 "nbformat": 4,
 "nbformat_minor": 5
}

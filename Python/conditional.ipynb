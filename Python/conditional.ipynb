{
 "cells": [
  {
   "cell_type": "code",
   "execution_count": 5,
   "id": "3a0f95c6",
   "metadata": {},
   "outputs": [
    {
     "data": {
      "text/plain": [
       "10"
      ]
     },
     "execution_count": 5,
     "metadata": {},
     "output_type": "execute_result"
    }
   ],
   "source": [
    "a = 10\n",
    "a"
   ]
  },
  {
   "cell_type": "code",
   "execution_count": 4,
   "id": "ee7ea0bd",
   "metadata": {},
   "outputs": [
    {
     "data": {
      "text/plain": [
       "20"
      ]
     },
     "execution_count": 4,
     "metadata": {},
     "output_type": "execute_result"
    }
   ],
   "source": [
    "a = 20\n",
    "\n",
    "a"
   ]
  },
  {
   "cell_type": "code",
   "execution_count": 6,
   "id": "461c0d31",
   "metadata": {},
   "outputs": [
    {
     "name": "stdout",
     "output_type": "stream",
     "text": [
      "x chota hai 10 se\n"
     ]
    }
   ],
   "source": [
    "x = 0\n",
    "if x<10: \n",
    "    print(\"x chota hai 10 se\") "
   ]
  },
  {
   "cell_type": "code",
   "execution_count": 9,
   "id": "c141b115",
   "metadata": {},
   "outputs": [
    {
     "name": "stdout",
     "output_type": "stream",
     "text": [
      "x bada hai 10 se\n"
     ]
    }
   ],
   "source": [
    "x = 20 \n",
    "if x<10:\n",
    "    print(\"x chota hai 10 se\")\n",
    "\n",
    "else:\n",
    "    print(\"x bada hai 10 se\")\n",
    "    "
   ]
  },
  {
   "cell_type": "code",
   "execution_count": 8,
   "id": "095138de",
   "metadata": {},
   "outputs": [
    {
     "name": "stdout",
     "output_type": "stream",
     "text": [
      "x hai vo equal hai 20 ke\n"
     ]
    }
   ],
   "source": [
    "x = 20 \n",
    "if x<10:\n",
    "    print(\"x chota hai 10 se\")\n",
    "\n",
    "elif x==20:\n",
    "    print(\"x hai vo equal hai 20 ke\")\n",
    "\n",
    "else:\n",
    "    print(\"x bada hai 10 se\")"
   ]
  },
  {
   "cell_type": "code",
   "execution_count": null,
   "id": "dfedb971",
   "metadata": {},
   "outputs": [],
   "source": [
    "# task 4 JUL 2025\n",
    "# find the largest number\n",
    "# check even or odd \n",
    "# leap year checker\n",
    "# grading system- 90 and above: grade A \n",
    "# traffic light "
   ]
  },
  {
   "cell_type": "code",
   "execution_count": null,
   "id": "6898157d",
   "metadata": {},
   "outputs": [
    {
     "name": "stdout",
     "output_type": "stream",
     "text": [
      "the largest number is: 104\n"
     ]
    }
   ],
   "source": [
    "#task 1\n",
    "numbers = [23,45,17,19,104]\n",
    "\n",
    "largest = numbers[0]\n",
    "\n",
    "for num in numbers:\n",
    "    if num>largest:\n",
    "        largest=num\n",
    "\n",
    "print(\"the largest number is:\",largest)"
   ]
  },
  {
   "cell_type": "code",
   "execution_count": 9,
   "id": "3ecd1686",
   "metadata": {},
   "outputs": [
    {
     "name": "stdout",
     "output_type": "stream",
     "text": [
      "the largest number is: 78\n"
     ]
    }
   ],
   "source": [
    "#task 1.1 \n",
    "#finding the largest number with user input\n",
    "\n",
    "n= int(input(\"how many numbers?\"))\n",
    "\n",
    "largest = None\n",
    "\n",
    "for i in range(n):\n",
    "    num = int(input(f\"enter number {i+1}:\"))\n",
    "    if largest is None or num >largest:\n",
    "        largest = num\n",
    "\n",
    "print(\"the largest number is:\",largest)"
   ]
  },
  {
   "cell_type": "code",
   "execution_count": 6,
   "id": "6360ac72",
   "metadata": {},
   "outputs": [
    {
     "name": "stdout",
     "output_type": "stream",
     "text": [
      "the number is odd.\n"
     ]
    }
   ],
   "source": [
    "#task 2\n",
    "num = int(input(\"enter your number\"))\n",
    "\n",
    "if num % 2 ==0:\n",
    "    print(\"the nunber is even.\")\n",
    "\n",
    "else:\n",
    "    print(\"the number is odd.\")"
   ]
  },
  {
   "cell_type": "code",
   "execution_count": 8,
   "id": "2f944895",
   "metadata": {},
   "outputs": [
    {
     "name": "stdout",
     "output_type": "stream",
     "text": [
      "it is not a leap year.\n"
     ]
    }
   ],
   "source": [
    "#task 3\n",
    "year = int(input(\"Enter a year:\"))\n",
    "\n",
    "if (year % 4 == 0 and year % 100!=0) or (year % 400 ==0):\n",
    "    print(\"it is a leap year.\")\n",
    "else:\n",
    "    print(\"it is not a leap year.\")\n",
    "    "
   ]
  },
  {
   "cell_type": "code",
   "execution_count": 5,
   "id": "fe14c8c0",
   "metadata": {},
   "outputs": [
    {
     "name": "stdout",
     "output_type": "stream",
     "text": [
      "Grade: C\n"
     ]
    }
   ],
   "source": [
    "#task 4\n",
    "\n",
    "marks = int(input(\"enter your marks\"))\n",
    "\n",
    "if marks>=90:\n",
    "    print(\"Grade: A\")\n",
    "elif marks >= 80:\n",
    "    print(\"Grade: B\")\n",
    "elif marks >= 70:\n",
    "    print(\"Grade: C\")\n",
    "elif marks >= 60:\n",
    "    print(\"Grade: D\")\n",
    "else:\n",
    "    print(\"Grade: E\")"
   ]
  },
  {
   "cell_type": "code",
   "execution_count": null,
   "id": "23062c12",
   "metadata": {},
   "outputs": [],
   "source": [
    "#task 5\n",
    "signal = input(\"enter the signal color such as (red, yellow, green):\")\n",
    "\n",
    "signal = signal.lower\n",
    "\n",
    "if signal == \"red\":\n",
    "    print(\"please stop\")\n",
    "elif signal == \"yellow\":\n",
    "    print(\"be ready\")\n",
    "elif signal == \"green\":\n",
    "    print(\"you can go\")\n",
    "else:\n",
    "    print(\"invalid color\")\n",
    "\n"
   ]
  }
 ],
 "metadata": {
  "kernelspec": {
   "display_name": "Python 3",
   "language": "python",
   "name": "python3"
  },
  "language_info": {
   "codemirror_mode": {
    "name": "ipython",
    "version": 3
   },
   "file_extension": ".py",
   "mimetype": "text/x-python",
   "name": "python",
   "nbconvert_exporter": "python",
   "pygments_lexer": "ipython3",
   "version": "3.12.6"
  }
 },
 "nbformat": 4,
 "nbformat_minor": 5
}

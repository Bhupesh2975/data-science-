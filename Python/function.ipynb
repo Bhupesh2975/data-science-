{
 "cells": [
  {
   "cell_type": "markdown",
   "id": "2e9e7587",
   "metadata": {},
   "source": [
    "## function\n",
    "\n",
    "#### user define \n",
    "\n",
    "#### pre define "
   ]
  },
  {
   "cell_type": "code",
   "execution_count": 11,
   "id": "172afd5c",
   "metadata": {},
   "outputs": [],
   "source": [
    "# lambda function\n",
    "# lambda >>>>> keyword\n",
    "# lambda is anonymous function\n",
    "# it is used for single line function \n",
    "# it is used for short function\n",
    "# it is used for one line function"
   ]
  },
  {
   "cell_type": "code",
   "execution_count": 1,
   "id": "507e2d43",
   "metadata": {},
   "outputs": [],
   "source": [
    "def function_name():\n",
    "    pass\n",
    "#function_name >>>>>>>function name \n",
    "# def is keyword\n",
    "# pass>>placeholder"
   ]
  },
  {
   "cell_type": "code",
   "execution_count": 5,
   "id": "bd787595",
   "metadata": {},
   "outputs": [
    {
     "name": "stdout",
     "output_type": "stream",
     "text": [
      "30\n"
     ]
    }
   ],
   "source": [
    "def add():\n",
    "    a = 10\n",
    "    b = 20\n",
    "    print(a+b)\n",
    "    \n",
    "add()"
   ]
  },
  {
   "cell_type": "code",
   "execution_count": 6,
   "id": "2ec682ab",
   "metadata": {},
   "outputs": [
    {
     "name": "stdout",
     "output_type": "stream",
     "text": [
      "30\n"
     ]
    }
   ],
   "source": [
    "add()\n"
   ]
  },
  {
   "cell_type": "code",
   "execution_count": null,
   "id": "889db0cd",
   "metadata": {},
   "outputs": [
    {
     "name": "stdout",
     "output_type": "stream",
     "text": [
      "40\n"
     ]
    }
   ],
   "source": [
    "def add(a,b):\n",
    "    print(a+b)\n",
    "\n",
    "add(a=10,b=30)"
   ]
  },
  {
   "cell_type": "code",
   "execution_count": 8,
   "id": "3a9564c9",
   "metadata": {},
   "outputs": [
    {
     "name": "stdout",
     "output_type": "stream",
     "text": [
      "50\n"
     ]
    }
   ],
   "source": [
    "def add(a,b):\n",
    "    print(a+b)\n",
    "\n",
    "add(20,30)"
   ]
  },
  {
   "cell_type": "code",
   "execution_count": 9,
   "id": "85e28b41",
   "metadata": {},
   "outputs": [],
   "source": [
    "def display(name, age, address=\"jaipur\"):\n",
    "    print(f\"my name is {name} and my {age} and i am from {address}\")"
   ]
  },
  {
   "cell_type": "code",
   "execution_count": 10,
   "id": "820db22b",
   "metadata": {},
   "outputs": [
    {
     "name": "stdout",
     "output_type": "stream",
     "text": [
      "my name is ritik and my 22 and i am from jaipur\n"
     ]
    }
   ],
   "source": [
    "display(\"ritik\",22)"
   ]
  },
  {
   "cell_type": "code",
   "execution_count": 12,
   "id": "2392b310",
   "metadata": {},
   "outputs": [
    {
     "data": {
      "text/plain": [
       "30"
      ]
     },
     "execution_count": 12,
     "metadata": {},
     "output_type": "execute_result"
    }
   ],
   "source": [
    "add = lambda a , b : a+b \n",
    "add(10,20)"
   ]
  },
  {
   "cell_type": "code",
   "execution_count": 13,
   "id": "7445cae6",
   "metadata": {},
   "outputs": [
    {
     "data": {
      "text/plain": [
       "100"
      ]
     },
     "execution_count": 13,
     "metadata": {},
     "output_type": "execute_result"
    }
   ],
   "source": [
    "square = lambda a : a**2\n",
    "square(10)"
   ]
  },
  {
   "cell_type": "code",
   "execution_count": null,
   "id": "dcab6bab",
   "metadata": {},
   "outputs": [],
   "source": []
  }
 ],
 "metadata": {
  "kernelspec": {
   "display_name": "Python 3",
   "language": "python",
   "name": "python3"
  },
  "language_info": {
   "codemirror_mode": {
    "name": "ipython",
    "version": 3
   },
   "file_extension": ".py",
   "mimetype": "text/x-python",
   "name": "python",
   "nbconvert_exporter": "python",
   "pygments_lexer": "ipython3",
   "version": "3.12.6"
  }
 },
 "nbformat": 4,
 "nbformat_minor": 5
}

{
 "cells": [
  {
   "cell_type": "markdown",
   "id": "9e5c7155",
   "metadata": {},
   "source": [
    "#### looping in python\n",
    "\n",
    "In Python, loops are control structures that allows you to execute a block of code repeatedly. There are two main types of loops:-\n",
    "\n",
    "For \n",
    "\n",
    "while "
   ]
  },
  {
   "cell_type": "code",
   "execution_count": 1,
   "id": "6ba481c1",
   "metadata": {},
   "outputs": [
    {
     "name": "stdout",
     "output_type": "stream",
     "text": [
      "s\n",
      "h\n",
      "i\n",
      "v\n",
      "a\n"
     ]
    }
   ],
   "source": [
    "#for \n",
    "#while \n",
    "#\"shiva\"\n",
    "for  x in \"shiva\":\n",
    "    print(x )"
   ]
  },
  {
   "cell_type": "code",
   "execution_count": 2,
   "id": "84af62a1",
   "metadata": {},
   "outputs": [
    {
     "name": "stdout",
     "output_type": "stream",
     "text": [
      "2\n",
      "4\n",
      "6\n",
      "8\n",
      "10\n",
      "12\n",
      "14\n",
      "16\n",
      "18\n",
      "20\n"
     ]
    }
   ],
   "source": [
    "for x in range(2,22,2):\n",
    "    print(x ) ##start point and second ending and 2gap"
   ]
  },
  {
   "cell_type": "code",
   "execution_count": 3,
   "id": "6d2c2f9a",
   "metadata": {},
   "outputs": [
    {
     "name": "stdout",
     "output_type": "stream",
     "text": [
      "('name', 'bhupesh')\n",
      "('class', '4th year')\n",
      "('roll', '22RU311071')\n",
      "('address', 'jaipur')\n"
     ]
    }
   ],
   "source": [
    "my_dict = {\"name\":\"bhupesh\",\n",
    "           \"class\":\"4th year\",\n",
    "           \"roll\":\"22RU311071\",\n",
    "           \"address\":\"jaipur\"\n",
    "\n",
    "}\n",
    "for item in my_dict.items():\n",
    "    print(item)"
   ]
  },
  {
   "cell_type": "markdown",
   "id": "8a799cb9",
   "metadata": {},
   "source": [
    "#### while loop\n"
   ]
  },
  {
   "cell_type": "code",
   "execution_count": 1,
   "id": "fe9e43c6",
   "metadata": {},
   "outputs": [],
   "source": [
    "# = and == and is\n",
    "# or and not \n",
    "# in and not in"
   ]
  },
  {
   "cell_type": "code",
   "execution_count": null,
   "id": "ec0d49a3",
   "metadata": {},
   "outputs": [],
   "source": [
    "a = 20 \n",
    "while"
   ]
  }
 ],
 "metadata": {
  "kernelspec": {
   "display_name": "Python 3",
   "language": "python",
   "name": "python3"
  },
  "language_info": {
   "codemirror_mode": {
    "name": "ipython",
    "version": 3
   },
   "file_extension": ".py",
   "mimetype": "text/x-python",
   "name": "python",
   "nbconvert_exporter": "python",
   "pygments_lexer": "ipython3",
   "version": "3.12.6"
  }
 },
 "nbformat": 4,
 "nbformat_minor": 5
}
